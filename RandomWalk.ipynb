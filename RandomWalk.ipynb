{
 "cells": [
  {
   "cell_type": "code",
   "execution_count": 21,
   "metadata": {},
   "outputs": [],
   "source": [
    "import numpy as np\n",
    "import math\n",
    "import matplotlib.pyplot as plt"
   ]
  },
  {
   "cell_type": "code",
   "execution_count": 2,
   "metadata": {},
   "outputs": [],
   "source": [
    "# populate probability arrays\n",
    "num_pulls_char = [1713, 1896, 1752, 1735, 1634, 1728, 1608, 1626, 1640, 1570, 1583, 1544, 1490, 1494, 1479, 1476, 1457, 1417, 1393, 1453, 1459, 1370, 1399, 1383, 1392, 1401, 1313, 1339, 1276, 1342, 1346, 1333, 1285, 1237, 1297, 1276, 1281, 1263, 1297, 1199, 1264, 1199, 1231, 1223, 1201, 1199, 1130, 1181, 1152, 1186, 1217, 1150, 1161, 1165, 1197, 1164, 1187, 1104, 1154, 1158, 1115, 1098, 1058, 1123, 1156, 1125, 1036, 1078, 1045, 1100, 1045, 1019, 1091, 11167, 19507, 25346, 26673, 25407, 21163, 15581, 10483, 6001, 3118, 1334, 480, 145, 33, 11, 1, 4]\n",
    "sum_char = np.sum(num_pulls_char)\n",
    "probabilities_char = np.array([val/sum_char for val in num_pulls_char])\n"
   ]
  },
  {
   "cell_type": "code",
   "execution_count": 81,
   "metadata": {},
   "outputs": [],
   "source": [
    "def simulate_trials(num_trials, max_attempts):\n",
    "    trial_results = 0\n",
    "    for trial_idx in range(num_trials):\n",
    "        attempt = 0\n",
    "        guarantee = 0\n",
    "        won = 0\n",
    "        while attempt <= max_attempts:\n",
    "            attempt += np.random.choice(a=90, p=probabilities_char)\n",
    "            if attempt > max_attempts:\n",
    "                break\n",
    "            if guarantee == 1:\n",
    "                guarantee = 0\n",
    "                continue\n",
    "            hit = np.random.choice(a=['w', 'l1', 'l2', 'l3', 'l4', 'l5', 'l6', 'l7'], p=[0.5 if i == 0 else (0.5/7) for i in range(8)])\n",
    "            if hit =='w':\n",
    "                guarantee = 1\n",
    "                continue\n",
    "            elif hit == 'l1':\n",
    "                won = 1\n",
    "        trial_results += won\n",
    "    return trial_results * 100/num_trials"
   ]
  },
  {
   "cell_type": "code",
   "execution_count": 104,
   "metadata": {},
   "outputs": [
    {
     "name": "stdout",
     "output_type": "stream",
     "text": [
      "0.1677330468333537\n"
     ]
    }
   ],
   "source": [
    "num_trials = int(1.6e4)   #1.6e4 results in a std of 0.172 at 3500 attempts, 0.168 at 100 attempts\n",
    "max_attempts = 7500\n",
    "#simulate_trials(num_trials, max_attempts)\n",
    "print(np.std([simulate_trials(num_trials, 100) for i in range(5)]))"
   ]
  },
  {
   "cell_type": "code",
   "execution_count": 105,
   "metadata": {},
   "outputs": [
    {
     "name": "stdout",
     "output_type": "stream",
     "text": [
      "10.409722222222221\n"
     ]
    }
   ],
   "source": [
    "times = [(50 * i/7500) for i in range(0,7500,5)]\n",
    "print(np.sum(times)/(3600))"
   ]
  },
  {
   "cell_type": "code",
   "execution_count": null,
   "metadata": {},
   "outputs": [],
   "source": [
    "simulations = []\n",
    "for num_attempts in range(1,7500,5):\n",
    "    simulations.append((simulate_trials(int(1.6e4), num_attempts), num_attempts)) # [(probability, num attempts), ...]\n",
    "    if (num_attempts - 1) % 500 == 0:\n",
    "        print(num_attempts)\n",
    "np.save(\"simulation_data16e3\", np.array(simulations))"
   ]
  },
  {
   "cell_type": "code",
   "execution_count": 106,
   "metadata": {},
   "outputs": [
    {
     "data": {
      "text/plain": [
       "5"
      ]
     },
     "execution_count": 106,
     "metadata": {},
     "output_type": "execute_result"
    }
   ],
   "source": []
  }
 ],
 "metadata": {
  "kernelspec": {
   "display_name": "Python 3",
   "language": "python",
   "name": "python3"
  },
  "language_info": {
   "codemirror_mode": {
    "name": "ipython",
    "version": 3
   },
   "file_extension": ".py",
   "mimetype": "text/x-python",
   "name": "python",
   "nbconvert_exporter": "python",
   "pygments_lexer": "ipython3",
   "version": "3.10.6"
  },
  "orig_nbformat": 4,
  "vscode": {
   "interpreter": {
    "hash": "e7370f93d1d0cde622a1f8e1c04877d8463912d04d973331ad4851f04de6915a"
   }
  }
 },
 "nbformat": 4,
 "nbformat_minor": 2
}
